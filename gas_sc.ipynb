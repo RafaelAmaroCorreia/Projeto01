{
 "cells": [
  {
   "cell_type": "code",
   "execution_count": 1,
   "id": "faa354a5-fa8a-4a0f-a545-528c087bf2db",
   "metadata": {},
   "outputs": [],
   "source": [
    "import pandas as pd\n",
    "import numpy as np\n",
    "import matplotlib.pyplot as plt\n",
    "import seaborn as sns"
   ]
  },
  {
   "cell_type": "code",
   "execution_count": 2,
   "id": "5d615203-be60-4cad-b651-241639ea77c7",
   "metadata": {},
   "outputs": [],
   "source": [
    "df = pd.read_csv('precos.tsv', sep='\\t', parse_dates=['DATA INICIAL','DATA FINAL'])"
   ]
  },
  {
   "cell_type": "code",
   "execution_count": 26,
   "id": "0653391f",
   "metadata": {},
   "outputs": [
    {
     "data": {
      "text/html": [
       "<div>\n",
       "<style scoped>\n",
       "    .dataframe tbody tr th:only-of-type {\n",
       "        vertical-align: middle;\n",
       "    }\n",
       "\n",
       "    .dataframe tbody tr th {\n",
       "        vertical-align: top;\n",
       "    }\n",
       "\n",
       "    .dataframe thead th {\n",
       "        text-align: right;\n",
       "    }\n",
       "</style>\n",
       "<table border=\"1\" class=\"dataframe\">\n",
       "  <thead>\n",
       "    <tr style=\"text-align: right;\">\n",
       "      <th></th>\n",
       "      <th>DATA INICIAL</th>\n",
       "      <th>DATA FINAL</th>\n",
       "      <th>REGIÃO</th>\n",
       "      <th>ESTADO</th>\n",
       "      <th>PRODUTO</th>\n",
       "      <th>NÚMERO DE POSTOS PESQUISADOS</th>\n",
       "      <th>UNIDADE DE MEDIDA</th>\n",
       "      <th>PREÇO MÉDIO REVENDA</th>\n",
       "      <th>DESVIO PADRÃO REVENDA</th>\n",
       "      <th>PREÇO MÍNIMO REVENDA</th>\n",
       "      <th>PREÇO MÁXIMO REVENDA</th>\n",
       "      <th>MARGEM MÉDIA REVENDA</th>\n",
       "      <th>COEF DE VARIAÇÃO REVENDA</th>\n",
       "      <th>PREÇO MÉDIO DISTRIBUIÇÃO</th>\n",
       "      <th>DESVIO PADRÃO DISTRIBUIÇÃO</th>\n",
       "      <th>PREÇO MÍNIMO DISTRIBUIÇÃO</th>\n",
       "      <th>PREÇO MÁXIMO DISTRIBUIÇÃO</th>\n",
       "      <th>COEF DE VARIAÇÃO DISTRIBUIÇÃO</th>\n",
       "    </tr>\n",
       "  </thead>\n",
       "  <tbody>\n",
       "    <tr>\n",
       "      <th>0</th>\n",
       "      <td>2004-05-09</td>\n",
       "      <td>2004-05-15</td>\n",
       "      <td>CENTRO OESTE</td>\n",
       "      <td>DISTRITO FEDERAL</td>\n",
       "      <td>ETANOL HIDRATADO</td>\n",
       "      <td>127</td>\n",
       "      <td>R$/l</td>\n",
       "      <td>1.288</td>\n",
       "      <td>0.016</td>\n",
       "      <td>1.19</td>\n",
       "      <td>1.350</td>\n",
       "      <td>0.463</td>\n",
       "      <td>0.012</td>\n",
       "      <td>0.825</td>\n",
       "      <td>0.11</td>\n",
       "      <td>0.4201</td>\n",
       "      <td>0.9666</td>\n",
       "      <td>0.133</td>\n",
       "    </tr>\n",
       "    <tr>\n",
       "      <th>1</th>\n",
       "      <td>2004-05-09</td>\n",
       "      <td>2004-05-15</td>\n",
       "      <td>CENTRO OESTE</td>\n",
       "      <td>GOIAS</td>\n",
       "      <td>ETANOL HIDRATADO</td>\n",
       "      <td>387</td>\n",
       "      <td>R$/l</td>\n",
       "      <td>1.162</td>\n",
       "      <td>0.114</td>\n",
       "      <td>0.89</td>\n",
       "      <td>1.449</td>\n",
       "      <td>0.399</td>\n",
       "      <td>0.098</td>\n",
       "      <td>0.763</td>\n",
       "      <td>0.088</td>\n",
       "      <td>0.5013</td>\n",
       "      <td>1.05</td>\n",
       "      <td>0.115</td>\n",
       "    </tr>\n",
       "  </tbody>\n",
       "</table>\n",
       "</div>"
      ],
      "text/plain": [
       "  DATA INICIAL DATA FINAL        REGIÃO            ESTADO           PRODUTO  \\\n",
       "0   2004-05-09 2004-05-15  CENTRO OESTE  DISTRITO FEDERAL  ETANOL HIDRATADO   \n",
       "1   2004-05-09 2004-05-15  CENTRO OESTE             GOIAS  ETANOL HIDRATADO   \n",
       "\n",
       "   NÚMERO DE POSTOS PESQUISADOS UNIDADE DE MEDIDA  PREÇO MÉDIO REVENDA  \\\n",
       "0                           127              R$/l                1.288   \n",
       "1                           387              R$/l                1.162   \n",
       "\n",
       "   DESVIO PADRÃO REVENDA  PREÇO MÍNIMO REVENDA  PREÇO MÁXIMO REVENDA  \\\n",
       "0                  0.016                  1.19                 1.350   \n",
       "1                  0.114                  0.89                 1.449   \n",
       "\n",
       "  MARGEM MÉDIA REVENDA  COEF DE VARIAÇÃO REVENDA PREÇO MÉDIO DISTRIBUIÇÃO  \\\n",
       "0                0.463                     0.012                    0.825   \n",
       "1                0.399                     0.098                    0.763   \n",
       "\n",
       "  DESVIO PADRÃO DISTRIBUIÇÃO PREÇO MÍNIMO DISTRIBUIÇÃO  \\\n",
       "0                       0.11                    0.4201   \n",
       "1                      0.088                    0.5013   \n",
       "\n",
       "  PREÇO MÁXIMO DISTRIBUIÇÃO COEF DE VARIAÇÃO DISTRIBUIÇÃO  \n",
       "0                    0.9666                         0.133  \n",
       "1                      1.05                         0.115  "
      ]
     },
     "execution_count": 26,
     "metadata": {},
     "output_type": "execute_result"
    }
   ],
   "source": [
    "df.head(2)"
   ]
  },
  {
   "cell_type": "code",
   "execution_count": 4,
   "id": "1829b62c-2080-4eba-b0d0-3b7c5d5432c3",
   "metadata": {},
   "outputs": [
    {
     "data": {
      "text/plain": [
       "(120823, 18)"
      ]
     },
     "execution_count": 4,
     "metadata": {},
     "output_type": "execute_result"
    }
   ],
   "source": [
    "df.shape"
   ]
  },
  {
   "cell_type": "code",
   "execution_count": 5,
   "id": "209ae5db-71fa-42be-a037-bfb323c218cc",
   "metadata": {},
   "outputs": [
    {
     "data": {
      "text/html": [
       "<div>\n",
       "<style scoped>\n",
       "    .dataframe tbody tr th:only-of-type {\n",
       "        vertical-align: middle;\n",
       "    }\n",
       "\n",
       "    .dataframe tbody tr th {\n",
       "        vertical-align: top;\n",
       "    }\n",
       "\n",
       "    .dataframe thead th {\n",
       "        text-align: right;\n",
       "    }\n",
       "</style>\n",
       "<table border=\"1\" class=\"dataframe\">\n",
       "  <thead>\n",
       "    <tr style=\"text-align: right;\">\n",
       "      <th></th>\n",
       "      <th>DATA INICIAL</th>\n",
       "      <th>DATA FINAL</th>\n",
       "      <th>REGIÃO</th>\n",
       "      <th>ESTADO</th>\n",
       "      <th>PRODUTO</th>\n",
       "      <th>NÚMERO DE POSTOS PESQUISADOS</th>\n",
       "      <th>UNIDADE DE MEDIDA</th>\n",
       "      <th>PREÇO MÉDIO REVENDA</th>\n",
       "      <th>DESVIO PADRÃO REVENDA</th>\n",
       "      <th>PREÇO MÍNIMO REVENDA</th>\n",
       "      <th>PREÇO MÁXIMO REVENDA</th>\n",
       "    </tr>\n",
       "  </thead>\n",
       "  <tbody>\n",
       "    <tr>\n",
       "      <th>0</th>\n",
       "      <td>2004-05-09</td>\n",
       "      <td>2004-05-15</td>\n",
       "      <td>CENTRO OESTE</td>\n",
       "      <td>DISTRITO FEDERAL</td>\n",
       "      <td>ETANOL HIDRATADO</td>\n",
       "      <td>127</td>\n",
       "      <td>R$/l</td>\n",
       "      <td>1.288</td>\n",
       "      <td>0.016</td>\n",
       "      <td>1.190</td>\n",
       "      <td>1.350</td>\n",
       "    </tr>\n",
       "    <tr>\n",
       "      <th>1</th>\n",
       "      <td>2004-05-09</td>\n",
       "      <td>2004-05-15</td>\n",
       "      <td>CENTRO OESTE</td>\n",
       "      <td>GOIAS</td>\n",
       "      <td>ETANOL HIDRATADO</td>\n",
       "      <td>387</td>\n",
       "      <td>R$/l</td>\n",
       "      <td>1.162</td>\n",
       "      <td>0.114</td>\n",
       "      <td>0.890</td>\n",
       "      <td>1.449</td>\n",
       "    </tr>\n",
       "    <tr>\n",
       "      <th>2</th>\n",
       "      <td>2004-05-09</td>\n",
       "      <td>2004-05-15</td>\n",
       "      <td>CENTRO OESTE</td>\n",
       "      <td>MATO GROSSO</td>\n",
       "      <td>ETANOL HIDRATADO</td>\n",
       "      <td>192</td>\n",
       "      <td>R$/l</td>\n",
       "      <td>1.389</td>\n",
       "      <td>0.097</td>\n",
       "      <td>1.180</td>\n",
       "      <td>1.760</td>\n",
       "    </tr>\n",
       "    <tr>\n",
       "      <th>3</th>\n",
       "      <td>2004-05-09</td>\n",
       "      <td>2004-05-15</td>\n",
       "      <td>CENTRO OESTE</td>\n",
       "      <td>MATO GROSSO DO SUL</td>\n",
       "      <td>ETANOL HIDRATADO</td>\n",
       "      <td>162</td>\n",
       "      <td>R$/l</td>\n",
       "      <td>1.262</td>\n",
       "      <td>0.070</td>\n",
       "      <td>1.090</td>\n",
       "      <td>1.509</td>\n",
       "    </tr>\n",
       "    <tr>\n",
       "      <th>4</th>\n",
       "      <td>2004-05-09</td>\n",
       "      <td>2004-05-15</td>\n",
       "      <td>NORDESTE</td>\n",
       "      <td>ALAGOAS</td>\n",
       "      <td>ETANOL HIDRATADO</td>\n",
       "      <td>103</td>\n",
       "      <td>R$/l</td>\n",
       "      <td>1.181</td>\n",
       "      <td>0.078</td>\n",
       "      <td>1.050</td>\n",
       "      <td>1.400</td>\n",
       "    </tr>\n",
       "    <tr>\n",
       "      <th>...</th>\n",
       "      <td>...</td>\n",
       "      <td>...</td>\n",
       "      <td>...</td>\n",
       "      <td>...</td>\n",
       "      <td>...</td>\n",
       "      <td>...</td>\n",
       "      <td>...</td>\n",
       "      <td>...</td>\n",
       "      <td>...</td>\n",
       "      <td>...</td>\n",
       "      <td>...</td>\n",
       "    </tr>\n",
       "    <tr>\n",
       "      <th>120818</th>\n",
       "      <td>2021-04-25</td>\n",
       "      <td>2021-05-01</td>\n",
       "      <td>NORTE</td>\n",
       "      <td>RORAIMA</td>\n",
       "      <td>OLEO DIESEL S10</td>\n",
       "      <td>12</td>\n",
       "      <td>R$/l</td>\n",
       "      <td>4.582</td>\n",
       "      <td>0.056</td>\n",
       "      <td>4.510</td>\n",
       "      <td>4.690</td>\n",
       "    </tr>\n",
       "    <tr>\n",
       "      <th>120819</th>\n",
       "      <td>2021-04-25</td>\n",
       "      <td>2021-05-01</td>\n",
       "      <td>SUL</td>\n",
       "      <td>SANTA CATARINA</td>\n",
       "      <td>OLEO DIESEL S10</td>\n",
       "      <td>100</td>\n",
       "      <td>R$/l</td>\n",
       "      <td>4.141</td>\n",
       "      <td>0.187</td>\n",
       "      <td>3.838</td>\n",
       "      <td>4.739</td>\n",
       "    </tr>\n",
       "    <tr>\n",
       "      <th>120820</th>\n",
       "      <td>2021-04-25</td>\n",
       "      <td>2021-05-01</td>\n",
       "      <td>SUDESTE</td>\n",
       "      <td>SAO PAULO</td>\n",
       "      <td>OLEO DIESEL S10</td>\n",
       "      <td>886</td>\n",
       "      <td>R$/l</td>\n",
       "      <td>4.246</td>\n",
       "      <td>0.216</td>\n",
       "      <td>3.769</td>\n",
       "      <td>5.199</td>\n",
       "    </tr>\n",
       "    <tr>\n",
       "      <th>120821</th>\n",
       "      <td>2021-04-25</td>\n",
       "      <td>2021-05-01</td>\n",
       "      <td>NORDESTE</td>\n",
       "      <td>SERGIPE</td>\n",
       "      <td>OLEO DIESEL S10</td>\n",
       "      <td>33</td>\n",
       "      <td>R$/l</td>\n",
       "      <td>4.464</td>\n",
       "      <td>0.205</td>\n",
       "      <td>4.190</td>\n",
       "      <td>4.699</td>\n",
       "    </tr>\n",
       "    <tr>\n",
       "      <th>120822</th>\n",
       "      <td>2021-04-25</td>\n",
       "      <td>2021-05-01</td>\n",
       "      <td>NORTE</td>\n",
       "      <td>TOCANTINS</td>\n",
       "      <td>OLEO DIESEL S10</td>\n",
       "      <td>18</td>\n",
       "      <td>R$/l</td>\n",
       "      <td>4.352</td>\n",
       "      <td>0.156</td>\n",
       "      <td>4.199</td>\n",
       "      <td>4.699</td>\n",
       "    </tr>\n",
       "  </tbody>\n",
       "</table>\n",
       "<p>120823 rows × 11 columns</p>\n",
       "</div>"
      ],
      "text/plain": [
       "       DATA INICIAL DATA FINAL        REGIÃO              ESTADO  \\\n",
       "0        2004-05-09 2004-05-15  CENTRO OESTE    DISTRITO FEDERAL   \n",
       "1        2004-05-09 2004-05-15  CENTRO OESTE               GOIAS   \n",
       "2        2004-05-09 2004-05-15  CENTRO OESTE         MATO GROSSO   \n",
       "3        2004-05-09 2004-05-15  CENTRO OESTE  MATO GROSSO DO SUL   \n",
       "4        2004-05-09 2004-05-15      NORDESTE             ALAGOAS   \n",
       "...             ...        ...           ...                 ...   \n",
       "120818   2021-04-25 2021-05-01         NORTE             RORAIMA   \n",
       "120819   2021-04-25 2021-05-01           SUL      SANTA CATARINA   \n",
       "120820   2021-04-25 2021-05-01       SUDESTE           SAO PAULO   \n",
       "120821   2021-04-25 2021-05-01      NORDESTE             SERGIPE   \n",
       "120822   2021-04-25 2021-05-01         NORTE           TOCANTINS   \n",
       "\n",
       "                 PRODUTO  NÚMERO DE POSTOS PESQUISADOS UNIDADE DE MEDIDA  \\\n",
       "0       ETANOL HIDRATADO                           127              R$/l   \n",
       "1       ETANOL HIDRATADO                           387              R$/l   \n",
       "2       ETANOL HIDRATADO                           192              R$/l   \n",
       "3       ETANOL HIDRATADO                           162              R$/l   \n",
       "4       ETANOL HIDRATADO                           103              R$/l   \n",
       "...                  ...                           ...               ...   \n",
       "120818   OLEO DIESEL S10                            12              R$/l   \n",
       "120819   OLEO DIESEL S10                           100              R$/l   \n",
       "120820   OLEO DIESEL S10                           886              R$/l   \n",
       "120821   OLEO DIESEL S10                            33              R$/l   \n",
       "120822   OLEO DIESEL S10                            18              R$/l   \n",
       "\n",
       "        PREÇO MÉDIO REVENDA  DESVIO PADRÃO REVENDA  PREÇO MÍNIMO REVENDA  \\\n",
       "0                     1.288                  0.016                 1.190   \n",
       "1                     1.162                  0.114                 0.890   \n",
       "2                     1.389                  0.097                 1.180   \n",
       "3                     1.262                  0.070                 1.090   \n",
       "4                     1.181                  0.078                 1.050   \n",
       "...                     ...                    ...                   ...   \n",
       "120818                4.582                  0.056                 4.510   \n",
       "120819                4.141                  0.187                 3.838   \n",
       "120820                4.246                  0.216                 3.769   \n",
       "120821                4.464                  0.205                 4.190   \n",
       "120822                4.352                  0.156                 4.199   \n",
       "\n",
       "        PREÇO MÁXIMO REVENDA  \n",
       "0                      1.350  \n",
       "1                      1.449  \n",
       "2                      1.760  \n",
       "3                      1.509  \n",
       "4                      1.400  \n",
       "...                      ...  \n",
       "120818                 4.690  \n",
       "120819                 4.739  \n",
       "120820                 5.199  \n",
       "120821                 4.699  \n",
       "120822                 4.699  \n",
       "\n",
       "[120823 rows x 11 columns]"
      ]
     },
     "execution_count": 5,
     "metadata": {},
     "output_type": "execute_result"
    }
   ],
   "source": [
    "df.loc[:,:'PREÇO MÁXIMO REVENDA']"
   ]
  },
  {
   "cell_type": "code",
   "execution_count": 6,
   "id": "c6a3af69-82ac-467b-8efe-fd7490ad0b19",
   "metadata": {},
   "outputs": [],
   "source": [
    "df_tratado =df.loc[:,:'PREÇO MÁXIMO REVENDA'].copy()"
   ]
  },
  {
   "cell_type": "code",
   "execution_count": 7,
   "id": "7b3581b4-a969-4acc-ace2-e8990f859164",
   "metadata": {},
   "outputs": [],
   "source": [
    "df_tratado.columns = ['dt_inicial', 'dt_final', 'regiao', 'estado', 'produto',\n",
    "       'numero_postos_pesquisados', 'unidade_medida',\n",
    "       'preco_media_revenda', 'desvio_padrao_revenda', 'preco_minimo_revenda',\n",
    "       'preco_maximo_revenda']"
   ]
  },
  {
   "cell_type": "code",
   "execution_count": 8,
   "id": "cfe8fa94-9f36-4bb7-aa71-7cbaf6bc416f",
   "metadata": {},
   "outputs": [
    {
     "data": {
      "text/plain": [
       "27"
      ]
     },
     "execution_count": 8,
     "metadata": {},
     "output_type": "execute_result"
    }
   ],
   "source": [
    "len(df_tratado['estado'].unique())"
   ]
  },
  {
   "cell_type": "code",
   "execution_count": 9,
   "id": "f73948d8-9285-4cf3-bb3b-1de15ac6ee9b",
   "metadata": {},
   "outputs": [
    {
     "data": {
      "text/plain": [
       "array(['DISTRITO FEDERAL', 'GOIAS', 'MATO GROSSO', 'MATO GROSSO DO SUL',\n",
       "       'ALAGOAS', 'BAHIA', 'CEARA', 'MARANHAO', 'PARAIBA', 'PERNAMBUCO',\n",
       "       'PIAUI', 'RIO GRANDE DO NORTE', 'SERGIPE', 'ACRE', 'AMAPA',\n",
       "       'AMAZONAS', 'PARA', 'RONDONIA', 'RORAIMA', 'TOCANTINS',\n",
       "       'ESPIRITO SANTO', 'MINAS GERAIS', 'RIO DE JANEIRO', 'SAO PAULO',\n",
       "       'PARANA', 'RIO GRANDE DO SUL', 'SANTA CATARINA'], dtype=object)"
      ]
     },
     "execution_count": 9,
     "metadata": {},
     "output_type": "execute_result"
    }
   ],
   "source": [
    "df_tratado['estado'].unique()"
   ]
  },
  {
   "cell_type": "code",
   "execution_count": 10,
   "id": "9e32fc2f-fc76-4106-bdf4-3dfea1a770b0",
   "metadata": {},
   "outputs": [
    {
     "data": {
      "text/plain": [
       "array(['ETANOL HIDRATADO', 'GASOLINA COMUM', 'GLP', 'GNV', 'ÓLEO DIESEL',\n",
       "       'ÓLEO DIESEL S10', 'OLEO DIESEL', 'OLEO DIESEL S10',\n",
       "       'GASOLINA ADITIVADA'], dtype=object)"
      ]
     },
     "execution_count": 10,
     "metadata": {},
     "output_type": "execute_result"
    }
   ],
   "source": [
    "df_tratado['produto'].unique()"
   ]
  },
  {
   "cell_type": "code",
   "execution_count": 11,
   "id": "6d118adf-d9b0-4af5-9b38-d6896a150c68",
   "metadata": {},
   "outputs": [
    {
     "data": {
      "text/plain": [
       "(Timestamp('2004-05-15 00:00:00'), Timestamp('2021-05-01 00:00:00'))"
      ]
     },
     "execution_count": 11,
     "metadata": {},
     "output_type": "execute_result"
    }
   ],
   "source": [
    "df_tratado['dt_final'].min(), df_tratado['dt_final'].max()"
   ]
  },
  {
   "cell_type": "code",
   "execution_count": 12,
   "id": "15de61a1-8ded-4024-93b4-3a8d5a74ce4d",
   "metadata": {},
   "outputs": [],
   "source": [
    "df_sc_gasolina = df_tratado.query(\"estado == 'SANTA CATARINA' and produto == 'GASOLINA COMUM'\").copy()"
   ]
  },
  {
   "cell_type": "code",
   "execution_count": 13,
   "id": "b8016ba3-fc7a-4956-ab3f-8bad3f8bc6c8",
   "metadata": {},
   "outputs": [
    {
     "data": {
      "text/plain": [
       "(873, 11)"
      ]
     },
     "execution_count": 13,
     "metadata": {},
     "output_type": "execute_result"
    }
   ],
   "source": [
    "df_sc_gasolina.shape"
   ]
  },
  {
   "cell_type": "code",
   "execution_count": 14,
   "id": "f6997995-b465-4941-bb79-b83e25cbac27",
   "metadata": {},
   "outputs": [],
   "source": [
    "df_sc_gasolina.set_index('dt_final', inplace=True)"
   ]
  },
  {
   "cell_type": "code",
   "execution_count": 15,
   "id": "463f62f1-ce73-4a14-ab7a-e7a22a5a2a63",
   "metadata": {},
   "outputs": [
    {
     "data": {
      "text/html": [
       "<div>\n",
       "<style scoped>\n",
       "    .dataframe tbody tr th:only-of-type {\n",
       "        vertical-align: middle;\n",
       "    }\n",
       "\n",
       "    .dataframe tbody tr th {\n",
       "        vertical-align: top;\n",
       "    }\n",
       "\n",
       "    .dataframe thead th {\n",
       "        text-align: right;\n",
       "    }\n",
       "</style>\n",
       "<table border=\"1\" class=\"dataframe\">\n",
       "  <thead>\n",
       "    <tr style=\"text-align: right;\">\n",
       "      <th></th>\n",
       "      <th>dt_inicial</th>\n",
       "      <th>regiao</th>\n",
       "      <th>estado</th>\n",
       "      <th>produto</th>\n",
       "      <th>numero_postos_pesquisados</th>\n",
       "      <th>unidade_medida</th>\n",
       "      <th>preco_media_revenda</th>\n",
       "      <th>desvio_padrao_revenda</th>\n",
       "      <th>preco_minimo_revenda</th>\n",
       "      <th>preco_maximo_revenda</th>\n",
       "    </tr>\n",
       "    <tr>\n",
       "      <th>dt_final</th>\n",
       "      <th></th>\n",
       "      <th></th>\n",
       "      <th></th>\n",
       "      <th></th>\n",
       "      <th></th>\n",
       "      <th></th>\n",
       "      <th></th>\n",
       "      <th></th>\n",
       "      <th></th>\n",
       "      <th></th>\n",
       "    </tr>\n",
       "  </thead>\n",
       "  <tbody>\n",
       "    <tr>\n",
       "      <th>2004-05-15</th>\n",
       "      <td>2004-05-09</td>\n",
       "      <td>SUL</td>\n",
       "      <td>SANTA CATARINA</td>\n",
       "      <td>GASOLINA COMUM</td>\n",
       "      <td>513</td>\n",
       "      <td>R$/l</td>\n",
       "      <td>2.070</td>\n",
       "      <td>0.065</td>\n",
       "      <td>1.77</td>\n",
       "      <td>2.199</td>\n",
       "    </tr>\n",
       "    <tr>\n",
       "      <th>2004-05-22</th>\n",
       "      <td>2004-05-16</td>\n",
       "      <td>SUL</td>\n",
       "      <td>SANTA CATARINA</td>\n",
       "      <td>GASOLINA COMUM</td>\n",
       "      <td>517</td>\n",
       "      <td>R$/l</td>\n",
       "      <td>2.067</td>\n",
       "      <td>0.065</td>\n",
       "      <td>1.86</td>\n",
       "      <td>2.188</td>\n",
       "    </tr>\n",
       "  </tbody>\n",
       "</table>\n",
       "</div>"
      ],
      "text/plain": [
       "           dt_inicial regiao          estado         produto  \\\n",
       "dt_final                                                       \n",
       "2004-05-15 2004-05-09    SUL  SANTA CATARINA  GASOLINA COMUM   \n",
       "2004-05-22 2004-05-16    SUL  SANTA CATARINA  GASOLINA COMUM   \n",
       "\n",
       "            numero_postos_pesquisados unidade_medida  preco_media_revenda  \\\n",
       "dt_final                                                                    \n",
       "2004-05-15                        513           R$/l                2.070   \n",
       "2004-05-22                        517           R$/l                2.067   \n",
       "\n",
       "            desvio_padrao_revenda  preco_minimo_revenda  preco_maximo_revenda  \n",
       "dt_final                                                                       \n",
       "2004-05-15                  0.065                  1.77                 2.199  \n",
       "2004-05-22                  0.065                  1.86                 2.188  "
      ]
     },
     "execution_count": 15,
     "metadata": {},
     "output_type": "execute_result"
    }
   ],
   "source": [
    "df_sc_gasolina.head(2)"
   ]
  },
  {
   "cell_type": "code",
   "execution_count": 16,
   "id": "bd4fe0ce-babd-4405-8df4-50e953080f93",
   "metadata": {},
   "outputs": [],
   "source": [
    "df_sc_gasolina = df_sc_gasolina.loc['2005': '2020'].copy()"
   ]
  },
  {
   "cell_type": "code",
   "execution_count": 17,
   "id": "ea82ea66-0dce-4fdf-925e-acc8e9419a80",
   "metadata": {},
   "outputs": [
    {
     "data": {
      "text/plain": [
       "(822, 10)"
      ]
     },
     "execution_count": 17,
     "metadata": {},
     "output_type": "execute_result"
    }
   ],
   "source": [
    "df_sc_gasolina.shape"
   ]
  },
  {
   "cell_type": "code",
   "execution_count": 18,
   "id": "4b190074-98bf-4c23-a917-6297e1ee58df",
   "metadata": {},
   "outputs": [
    {
     "data": {
      "text/plain": [
       "<Axes: >"
      ]
     },
     "execution_count": 18,
     "metadata": {},
     "output_type": "execute_result"
    },
    {
     "data": {
      "image/png": "[encoded data removed]",
      "text/plain": [
       "<Figure size 1500x500 with 1 Axes>"
      ]
     },
     "metadata": {},
     "output_type": "display_data"
    }
   ],
   "source": [
    "plt.figure(figsize=(15,5))\n",
    "df_sc_gasolina['preco_media_revenda'].hist()"
   ]
  },
  {
   "cell_type": "code",
   "execution_count": 19,
   "id": "1aff1b0d-015e-49af-b468-4008e213e83a",
   "metadata": {},
   "outputs": [
    {
     "data": {
      "text/plain": [
       "count    822.000000\n",
       "mean       3.066528\n",
       "std        0.609740\n",
       "min        2.326000\n",
       "25%        2.555000\n",
       "50%        2.776000\n",
       "75%        3.528000\n",
       "max        4.412000\n",
       "Name: preco_media_revenda, dtype: float64"
      ]
     },
     "execution_count": 19,
     "metadata": {},
     "output_type": "execute_result"
    }
   ],
   "source": [
    "df_sc_gasolina['preco_media_revenda'].describe()"
   ]
  },
  {
   "cell_type": "code",
   "execution_count": 20,
   "id": "8409cb95-3048-471e-a63a-0cb73a15693a",
   "metadata": {},
   "outputs": [
    {
     "name": "stderr",
     "output_type": "stream",
     "text": [
      "C:\\Users\\RAFAE\\AppData\\Local\\Temp\\ipykernel_7396\\456576920.py:1: FutureWarning: The provided callable <function mean at 0x000002292B9D6660> is currently using SeriesGroupBy.mean. In a future version of pandas, the provided callable will be used directly. To keep current behavior pass the string \"mean\" instead.\n",
      "  df_tabela = df_sc_gasolina.groupby(df_sc_gasolina.index.year).agg({\n"
     ]
    }
   ],
   "source": [
    "df_tabela = df_sc_gasolina.groupby(df_sc_gasolina.index.year).agg({\n",
    "'preco_media_revenda': np.mean\n",
    "})"
   ]
  },
  {
   "cell_type": "code",
   "execution_count": 21,
   "id": "ba908538-5fcf-4e6d-af1b-bbd779ed9a42",
   "metadata": {},
   "outputs": [
    {
     "data": {
      "text/html": [
       "<div>\n",
       "<style scoped>\n",
       "    .dataframe tbody tr th:only-of-type {\n",
       "        vertical-align: middle;\n",
       "    }\n",
       "\n",
       "    .dataframe tbody tr th {\n",
       "        vertical-align: top;\n",
       "    }\n",
       "\n",
       "    .dataframe thead th {\n",
       "        text-align: right;\n",
       "    }\n",
       "</style>\n",
       "<table border=\"1\" class=\"dataframe\">\n",
       "  <thead>\n",
       "    <tr style=\"text-align: right;\">\n",
       "      <th></th>\n",
       "      <th>preco_media_revenda</th>\n",
       "    </tr>\n",
       "    <tr>\n",
       "      <th>dt_final</th>\n",
       "      <th></th>\n",
       "    </tr>\n",
       "  </thead>\n",
       "  <tbody>\n",
       "    <tr>\n",
       "      <th>2005</th>\n",
       "      <td>NaN</td>\n",
       "    </tr>\n",
       "    <tr>\n",
       "      <th>2006</th>\n",
       "      <td>2.426235</td>\n",
       "    </tr>\n",
       "    <tr>\n",
       "      <th>2007</th>\n",
       "      <td>2.573769</td>\n",
       "    </tr>\n",
       "    <tr>\n",
       "      <th>2008</th>\n",
       "      <td>2.542173</td>\n",
       "    </tr>\n",
       "    <tr>\n",
       "      <th>2009</th>\n",
       "      <td>2.536154</td>\n",
       "    </tr>\n",
       "    <tr>\n",
       "      <th>2010</th>\n",
       "      <td>2.533740</td>\n",
       "    </tr>\n",
       "    <tr>\n",
       "      <th>2011</th>\n",
       "      <td>2.576038</td>\n",
       "    </tr>\n",
       "    <tr>\n",
       "      <th>2012</th>\n",
       "      <td>2.724132</td>\n",
       "    </tr>\n",
       "    <tr>\n",
       "      <th>2013</th>\n",
       "      <td>2.720288</td>\n",
       "    </tr>\n",
       "    <tr>\n",
       "      <th>2014</th>\n",
       "      <td>2.846462</td>\n",
       "    </tr>\n",
       "    <tr>\n",
       "      <th>2015</th>\n",
       "      <td>2.956981</td>\n",
       "    </tr>\n",
       "    <tr>\n",
       "      <th>2016</th>\n",
       "      <td>3.247314</td>\n",
       "    </tr>\n",
       "    <tr>\n",
       "      <th>2017</th>\n",
       "      <td>3.517736</td>\n",
       "    </tr>\n",
       "    <tr>\n",
       "      <th>2018</th>\n",
       "      <td>3.661577</td>\n",
       "    </tr>\n",
       "    <tr>\n",
       "      <th>2019</th>\n",
       "      <td>4.108154</td>\n",
       "    </tr>\n",
       "    <tr>\n",
       "      <th>2020</th>\n",
       "      <td>4.074327</td>\n",
       "    </tr>\n",
       "  </tbody>\n",
       "</table>\n",
       "</div>"
      ],
      "text/plain": [
       "          preco_media_revenda\n",
       "dt_final                     \n",
       "2005                      NaN\n",
       "2006                 2.426235\n",
       "2007                 2.573769\n",
       "2008                 2.542173\n",
       "2009                 2.536154\n",
       "2010                 2.533740\n",
       "2011                 2.576038\n",
       "2012                 2.724132\n",
       "2013                 2.720288\n",
       "2014                 2.846462\n",
       "2015                 2.956981\n",
       "2016                 3.247314\n",
       "2017                 3.517736\n",
       "2018                 3.661577\n",
       "2019                 4.108154\n",
       "2020                 4.074327"
      ]
     },
     "execution_count": 21,
     "metadata": {},
     "output_type": "execute_result"
    }
   ],
   "source": [
    "df_tabela.shift(1)"
   ]
  },
  {
   "cell_type": "code",
   "execution_count": 22,
   "id": "537a5597-c238-4a04-8fab-e611a3a8330b",
   "metadata": {},
   "outputs": [],
   "source": [
    "df_tabela['valor_ano_anterior'] = df_tabela.shift(1)"
   ]
  },
  {
   "cell_type": "code",
   "execution_count": 23,
   "id": "91c01ddb-5de8-4ab5-8b3b-68901909dbf5",
   "metadata": {},
   "outputs": [],
   "source": [
    "df_tabela = df_tabela.loc['2006':].copy()"
   ]
  },
  {
   "cell_type": "code",
   "execution_count": 24,
   "id": "9a62202c-c378-4c66-a5a3-f30deb847360",
   "metadata": {},
   "outputs": [],
   "source": [
    "df_tabela['variacao_percentual'] = round(((df_tabela['preco_media_revenda']/df_tabela['valor_ano_anterior']) -1)*100,2)"
   ]
  },
  {
   "cell_type": "code",
   "execution_count": 25,
   "id": "0daddf35-7fa9-4df0-ac31-f061887854b1",
   "metadata": {},
   "outputs": [
    {
     "data": {
      "text/html": [
       "<div>\n",
       "<style scoped>\n",
       "    .dataframe tbody tr th:only-of-type {\n",
       "        vertical-align: middle;\n",
       "    }\n",
       "\n",
       "    .dataframe tbody tr th {\n",
       "        vertical-align: top;\n",
       "    }\n",
       "\n",
       "    .dataframe thead th {\n",
       "        text-align: right;\n",
       "    }\n",
       "</style>\n",
       "<table border=\"1\" class=\"dataframe\">\n",
       "  <thead>\n",
       "    <tr style=\"text-align: right;\">\n",
       "      <th></th>\n",
       "      <th>preco_media_revenda</th>\n",
       "      <th>valor_ano_anterior</th>\n",
       "      <th>variacao_percentual</th>\n",
       "    </tr>\n",
       "    <tr>\n",
       "      <th>dt_final</th>\n",
       "      <th></th>\n",
       "      <th></th>\n",
       "      <th></th>\n",
       "    </tr>\n",
       "  </thead>\n",
       "  <tbody>\n",
       "    <tr>\n",
       "      <th>2006</th>\n",
       "      <td>2.573769</td>\n",
       "      <td>2.426235</td>\n",
       "      <td>6.08</td>\n",
       "    </tr>\n",
       "    <tr>\n",
       "      <th>2007</th>\n",
       "      <td>2.542173</td>\n",
       "      <td>2.573769</td>\n",
       "      <td>-1.23</td>\n",
       "    </tr>\n",
       "    <tr>\n",
       "      <th>2008</th>\n",
       "      <td>2.536154</td>\n",
       "      <td>2.542173</td>\n",
       "      <td>-0.24</td>\n",
       "    </tr>\n",
       "    <tr>\n",
       "      <th>2009</th>\n",
       "      <td>2.533740</td>\n",
       "      <td>2.536154</td>\n",
       "      <td>-0.10</td>\n",
       "    </tr>\n",
       "    <tr>\n",
       "      <th>2010</th>\n",
       "      <td>2.576038</td>\n",
       "      <td>2.533740</td>\n",
       "      <td>1.67</td>\n",
       "    </tr>\n",
       "    <tr>\n",
       "      <th>2011</th>\n",
       "      <td>2.724132</td>\n",
       "      <td>2.576038</td>\n",
       "      <td>5.75</td>\n",
       "    </tr>\n",
       "    <tr>\n",
       "      <th>2012</th>\n",
       "      <td>2.720288</td>\n",
       "      <td>2.724132</td>\n",
       "      <td>-0.14</td>\n",
       "    </tr>\n",
       "    <tr>\n",
       "      <th>2013</th>\n",
       "      <td>2.846462</td>\n",
       "      <td>2.720288</td>\n",
       "      <td>4.64</td>\n",
       "    </tr>\n",
       "    <tr>\n",
       "      <th>2014</th>\n",
       "      <td>2.956981</td>\n",
       "      <td>2.846462</td>\n",
       "      <td>3.88</td>\n",
       "    </tr>\n",
       "    <tr>\n",
       "      <th>2015</th>\n",
       "      <td>3.247314</td>\n",
       "      <td>2.956981</td>\n",
       "      <td>9.82</td>\n",
       "    </tr>\n",
       "    <tr>\n",
       "      <th>2016</th>\n",
       "      <td>3.517736</td>\n",
       "      <td>3.247314</td>\n",
       "      <td>8.33</td>\n",
       "    </tr>\n",
       "    <tr>\n",
       "      <th>2017</th>\n",
       "      <td>3.661577</td>\n",
       "      <td>3.517736</td>\n",
       "      <td>4.09</td>\n",
       "    </tr>\n",
       "    <tr>\n",
       "      <th>2018</th>\n",
       "      <td>4.108154</td>\n",
       "      <td>3.661577</td>\n",
       "      <td>12.20</td>\n",
       "    </tr>\n",
       "    <tr>\n",
       "      <th>2019</th>\n",
       "      <td>4.074327</td>\n",
       "      <td>4.108154</td>\n",
       "      <td>-0.82</td>\n",
       "    </tr>\n",
       "    <tr>\n",
       "      <th>2020</th>\n",
       "      <td>4.155477</td>\n",
       "      <td>4.074327</td>\n",
       "      <td>1.99</td>\n",
       "    </tr>\n",
       "  </tbody>\n",
       "</table>\n",
       "</div>"
      ],
      "text/plain": [
       "          preco_media_revenda  valor_ano_anterior  variacao_percentual\n",
       "dt_final                                                              \n",
       "2006                 2.573769            2.426235                 6.08\n",
       "2007                 2.542173            2.573769                -1.23\n",
       "2008                 2.536154            2.542173                -0.24\n",
       "2009                 2.533740            2.536154                -0.10\n",
       "2010                 2.576038            2.533740                 1.67\n",
       "2011                 2.724132            2.576038                 5.75\n",
       "2012                 2.720288            2.724132                -0.14\n",
       "2013                 2.846462            2.720288                 4.64\n",
       "2014                 2.956981            2.846462                 3.88\n",
       "2015                 3.247314            2.956981                 9.82\n",
       "2016                 3.517736            3.247314                 8.33\n",
       "2017                 3.661577            3.517736                 4.09\n",
       "2018                 4.108154            3.661577                12.20\n",
       "2019                 4.074327            4.108154                -0.82\n",
       "2020                 4.155477            4.074327                 1.99"
      ]
     },
     "execution_count": 25,
     "metadata": {},
     "output_type": "execute_result"
    }
   ],
   "source": [
    "df_tabela"
   ]
  },
  {
   "cell_type": "code",
   "execution_count": null,
   "id": "1e8b8e85-58ee-4f7c-86aa-f4a259f305a8",
   "metadata": {},
   "outputs": [],
   "source": []
  }
 ],
 "metadata": {
  "kernelspec": {
   "display_name": "Python 3 (ipykernel)",
   "language": "python",
   "name": "python3"
  },
  "language_info": {
   "codemirror_mode": {
    "name": "ipython",
    "version": 3
   },
   "file_extension": ".py",
   "mimetype": "text/x-python",
   "name": "python",
   "nbconvert_exporter": "python",
   "pygments_lexer": "ipython3",
   "version": "3.12.3"
  }
 },
 "nbformat": 4,
 "nbformat_minor": 5
}
